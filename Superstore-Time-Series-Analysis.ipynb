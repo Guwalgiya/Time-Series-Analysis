{
 "cells": [
  {
   "cell_type": "markdown",
   "metadata": {},
   "source": [
    "This is a project which analyzes the daily foregin exchange rates dataset."
   ]
  },
  {
   "cell_type": "code",
   "execution_count": 40,
   "metadata": {},
   "outputs": [],
   "source": [
    "# Load dataset\n",
    "GBP_USD_Data_File   <- \"Data/daily-foreign-exchange-rates-GBP-USD.csv\"\n",
    "GBP_USD_Data        <- read.csv(file = GBP_USD_Data_File, header = TRUE, sep = \",\") \n",
    "names(GBP_USD_Data) <- c(\"date\", \"rate\")\n",
    "\n",
    "# Get Columns\n",
    "dates <- GBP_USD_Data$date\n",
    "rates <- GBP_USD_Data$rate"
   ]
  }
 ],
 "metadata": {
  "kernelspec": {
   "display_name": "R",
   "language": "R",
   "name": "ir"
  },
  "language_info": {
   "codemirror_mode": "r",
   "file_extension": ".r",
   "mimetype": "text/x-r-source",
   "name": "R",
   "pygments_lexer": "r",
   "version": "3.5.1"
  }
 },
 "nbformat": 4,
 "nbformat_minor": 2
}
